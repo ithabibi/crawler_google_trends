{
 "cells": [
  {
   "cell_type": "code",
   "execution_count": 1,
   "metadata": {},
   "outputs": [
    {
     "name": "stdout",
     "output_type": "stream",
     "text": [
      "Requirement already satisfied: selenium in c:\\users\\administrator\\appdata\\local\\programs\\python\\python311\\lib\\site-packages (4.11.2)\n",
      "Note: you may need to restart the kernel to use updated packages.\n"
     ]
    },
    {
     "name": "stderr",
     "output_type": "stream",
     "text": [
      "ERROR: Could not find a version that satisfies the requirement 4.22.0 (from versions: none)\n",
      "ERROR: No matching distribution found for 4.22.0\n",
      "\n",
      "[notice] A new release of pip is available: 23.2.1 -> 24.1.2\n",
      "[notice] To update, run: python.exe -m pip install --upgrade pip\n"
     ]
    }
   ],
   "source": [
    "pip install selenium 4.22.0"
   ]
  },
  {
   "cell_type": "code",
   "execution_count": 2,
   "metadata": {},
   "outputs": [],
   "source": [
    "import requests\n",
    "from bs4 import BeautifulSoup\n",
    "import IPython\n",
    "import IPython.display\n",
    "\n",
    "import time\n",
    "from selenium import webdriver\n",
    "import re\n",
    "\n",
    "from selenium.webdriver.common.by import By\n",
    "from selenium.webdriver.common.keys import Keys\n",
    "\n",
    "import pandas as pd\n",
    "import datetime\n",
    "from dateutil.relativedelta import relativedelta\n",
    "import os.path"
   ]
  },
  {
   "cell_type": "code",
   "execution_count": 9,
   "metadata": {},
   "outputs": [
    {
     "ename": "InvalidArgumentException",
     "evalue": "Message: invalid argument: invalid locator\n  (Session info: chrome=126.0.6478.127)\nStacktrace:\n\tGetHandleVerifier [0x00007FF65FFCEEB2+31554]\n\t(No symbol) [0x00007FF65FF47EE9]\n\t(No symbol) [0x00007FF65FE0872A]\n\t(No symbol) [0x00007FF65FE579D3]\n\t(No symbol) [0x00007FF65FE5853C]\n\t(No symbol) [0x00007FF65FE9F6A7]\n\t(No symbol) [0x00007FF65FE7D06F]\n\t(No symbol) [0x00007FF65FE9C977]\n\t(No symbol) [0x00007FF65FE7CDD3]\n\t(No symbol) [0x00007FF65FE4A33B]\n\t(No symbol) [0x00007FF65FE4AED1]\n\tGetHandleVerifier [0x00007FF6602D8B2D+3217341]\n\tGetHandleVerifier [0x00007FF660325AF3+3532675]\n\tGetHandleVerifier [0x00007FF66031B0F0+3489152]\n\tGetHandleVerifier [0x00007FF66007E786+750614]\n\t(No symbol) [0x00007FF65FF5376F]\n\t(No symbol) [0x00007FF65FF4EB24]\n\t(No symbol) [0x00007FF65FF4ECB2]\n\t(No symbol) [0x00007FF65FF3E17F]\n\tBaseThreadInitThunk [0x00007FF980A57374+20]\n\tRtlUserThreadStart [0x00007FF98107CC91+33]\n",
     "output_type": "error",
     "traceback": [
      "\u001b[1;31m---------------------------------------------------------------------------\u001b[0m",
      "\u001b[1;31mInvalidArgumentException\u001b[0m                  Traceback (most recent call last)",
      "Cell \u001b[1;32mIn[9], line 26\u001b[0m\n\u001b[0;32m     21\u001b[0m time\u001b[38;5;241m.\u001b[39msleep(\u001b[38;5;241m2\u001b[39m)\n\u001b[0;32m     22\u001b[0m \u001b[38;5;66;03m#search_box.send_keys(Keys.RETURN)  # ارسال جستجو با فشردن Enter\u001b[39;00m\n\u001b[0;32m     23\u001b[0m \u001b[38;5;66;03m#html_content = driver.page_source # دریافت HTML صفحه جستجو شده\u001b[39;00m\n\u001b[0;32m     24\u001b[0m \u001b[38;5;66;03m#time.sleep(31)\u001b[39;00m\n\u001b[1;32m---> 26\u001b[0m button \u001b[38;5;241m=\u001b[39m \u001b[43mdriver\u001b[49m\u001b[38;5;241;43m.\u001b[39;49m\u001b[43mfind_element\u001b[49m\u001b[43m(\u001b[49m\u001b[38;5;124;43m\"\u001b[39;49m\u001b[38;5;124;43maria-describedby\u001b[39;49m\u001b[38;5;124;43m\"\u001b[39;49m\u001b[43m,\u001b[49m\u001b[38;5;124;43m\"\u001b[39;49m\u001b[38;5;124;43monboarding-tooltip-1458\u001b[39;49m\u001b[38;5;124;43m\"\u001b[39;49m\u001b[43m)\u001b[49m \u001b[38;5;66;03m#tools پیدا کردن المان مربوط به \u001b[39;00m\n\u001b[0;32m     27\u001b[0m button\u001b[38;5;241m.\u001b[39mclick()  \u001b[38;5;66;03m#tools کلیک روی دکمه\u001b[39;00m\n\u001b[0;32m     29\u001b[0m \u001b[38;5;66;03m#page_html = driver.page_source #دریافت کد اچ تی ام ال\u001b[39;00m\n\u001b[0;32m     30\u001b[0m \u001b[38;5;66;03m#soup = BeautifulSoup(page_html, 'html.parser') # تحویل به پارسر\u001b[39;00m\n\u001b[0;32m     31\u001b[0m \n\u001b[1;32m   (...)\u001b[0m\n\u001b[0;32m     46\u001b[0m \u001b[38;5;66;03m#    print('تگ div با آی دی result-stats یافت نشد.')\u001b[39;00m\n\u001b[0;32m     47\u001b[0m \u001b[38;5;66;03m#print(page_html)\u001b[39;00m\n",
      "File \u001b[1;32mc:\\Users\\Administrator\\AppData\\Local\\Programs\\Python\\Python311\\Lib\\site-packages\\selenium\\webdriver\\remote\\webdriver.py:739\u001b[0m, in \u001b[0;36mWebDriver.find_element\u001b[1;34m(self, by, value)\u001b[0m\n\u001b[0;32m    736\u001b[0m     by \u001b[38;5;241m=\u001b[39m By\u001b[38;5;241m.\u001b[39mCSS_SELECTOR\n\u001b[0;32m    737\u001b[0m     value \u001b[38;5;241m=\u001b[39m \u001b[38;5;124mf\u001b[39m\u001b[38;5;124m'\u001b[39m\u001b[38;5;124m[name=\u001b[39m\u001b[38;5;124m\"\u001b[39m\u001b[38;5;132;01m{\u001b[39;00mvalue\u001b[38;5;132;01m}\u001b[39;00m\u001b[38;5;124m\"\u001b[39m\u001b[38;5;124m]\u001b[39m\u001b[38;5;124m'\u001b[39m\n\u001b[1;32m--> 739\u001b[0m \u001b[38;5;28;01mreturn\u001b[39;00m \u001b[38;5;28;43mself\u001b[39;49m\u001b[38;5;241;43m.\u001b[39;49m\u001b[43mexecute\u001b[49m\u001b[43m(\u001b[49m\u001b[43mCommand\u001b[49m\u001b[38;5;241;43m.\u001b[39;49m\u001b[43mFIND_ELEMENT\u001b[49m\u001b[43m,\u001b[49m\u001b[43m \u001b[49m\u001b[43m{\u001b[49m\u001b[38;5;124;43m\"\u001b[39;49m\u001b[38;5;124;43musing\u001b[39;49m\u001b[38;5;124;43m\"\u001b[39;49m\u001b[43m:\u001b[49m\u001b[43m \u001b[49m\u001b[43mby\u001b[49m\u001b[43m,\u001b[49m\u001b[43m \u001b[49m\u001b[38;5;124;43m\"\u001b[39;49m\u001b[38;5;124;43mvalue\u001b[39;49m\u001b[38;5;124;43m\"\u001b[39;49m\u001b[43m:\u001b[49m\u001b[43m \u001b[49m\u001b[43mvalue\u001b[49m\u001b[43m}\u001b[49m\u001b[43m)\u001b[49m[\u001b[38;5;124m\"\u001b[39m\u001b[38;5;124mvalue\u001b[39m\u001b[38;5;124m\"\u001b[39m]\n",
      "File \u001b[1;32mc:\\Users\\Administrator\\AppData\\Local\\Programs\\Python\\Python311\\Lib\\site-packages\\selenium\\webdriver\\remote\\webdriver.py:345\u001b[0m, in \u001b[0;36mWebDriver.execute\u001b[1;34m(self, driver_command, params)\u001b[0m\n\u001b[0;32m    343\u001b[0m response \u001b[38;5;241m=\u001b[39m \u001b[38;5;28mself\u001b[39m\u001b[38;5;241m.\u001b[39mcommand_executor\u001b[38;5;241m.\u001b[39mexecute(driver_command, params)\n\u001b[0;32m    344\u001b[0m \u001b[38;5;28;01mif\u001b[39;00m response:\n\u001b[1;32m--> 345\u001b[0m     \u001b[38;5;28;43mself\u001b[39;49m\u001b[38;5;241;43m.\u001b[39;49m\u001b[43merror_handler\u001b[49m\u001b[38;5;241;43m.\u001b[39;49m\u001b[43mcheck_response\u001b[49m\u001b[43m(\u001b[49m\u001b[43mresponse\u001b[49m\u001b[43m)\u001b[49m\n\u001b[0;32m    346\u001b[0m     response[\u001b[38;5;124m\"\u001b[39m\u001b[38;5;124mvalue\u001b[39m\u001b[38;5;124m\"\u001b[39m] \u001b[38;5;241m=\u001b[39m \u001b[38;5;28mself\u001b[39m\u001b[38;5;241m.\u001b[39m_unwrap_value(response\u001b[38;5;241m.\u001b[39mget(\u001b[38;5;124m\"\u001b[39m\u001b[38;5;124mvalue\u001b[39m\u001b[38;5;124m\"\u001b[39m, \u001b[38;5;28;01mNone\u001b[39;00m))\n\u001b[0;32m    347\u001b[0m     \u001b[38;5;28;01mreturn\u001b[39;00m response\n",
      "File \u001b[1;32mc:\\Users\\Administrator\\AppData\\Local\\Programs\\Python\\Python311\\Lib\\site-packages\\selenium\\webdriver\\remote\\errorhandler.py:229\u001b[0m, in \u001b[0;36mErrorHandler.check_response\u001b[1;34m(self, response)\u001b[0m\n\u001b[0;32m    227\u001b[0m         alert_text \u001b[38;5;241m=\u001b[39m value[\u001b[38;5;124m\"\u001b[39m\u001b[38;5;124malert\u001b[39m\u001b[38;5;124m\"\u001b[39m]\u001b[38;5;241m.\u001b[39mget(\u001b[38;5;124m\"\u001b[39m\u001b[38;5;124mtext\u001b[39m\u001b[38;5;124m\"\u001b[39m)\n\u001b[0;32m    228\u001b[0m     \u001b[38;5;28;01mraise\u001b[39;00m exception_class(message, screen, stacktrace, alert_text)  \u001b[38;5;66;03m# type: ignore[call-arg]  # mypy is not smart enough here\u001b[39;00m\n\u001b[1;32m--> 229\u001b[0m \u001b[38;5;28;01mraise\u001b[39;00m exception_class(message, screen, stacktrace)\n",
      "\u001b[1;31mInvalidArgumentException\u001b[0m: Message: invalid argument: invalid locator\n  (Session info: chrome=126.0.6478.127)\nStacktrace:\n\tGetHandleVerifier [0x00007FF65FFCEEB2+31554]\n\t(No symbol) [0x00007FF65FF47EE9]\n\t(No symbol) [0x00007FF65FE0872A]\n\t(No symbol) [0x00007FF65FE579D3]\n\t(No symbol) [0x00007FF65FE5853C]\n\t(No symbol) [0x00007FF65FE9F6A7]\n\t(No symbol) [0x00007FF65FE7D06F]\n\t(No symbol) [0x00007FF65FE9C977]\n\t(No symbol) [0x00007FF65FE7CDD3]\n\t(No symbol) [0x00007FF65FE4A33B]\n\t(No symbol) [0x00007FF65FE4AED1]\n\tGetHandleVerifier [0x00007FF6602D8B2D+3217341]\n\tGetHandleVerifier [0x00007FF660325AF3+3532675]\n\tGetHandleVerifier [0x00007FF66031B0F0+3489152]\n\tGetHandleVerifier [0x00007FF66007E786+750614]\n\t(No symbol) [0x00007FF65FF5376F]\n\t(No symbol) [0x00007FF65FF4EB24]\n\t(No symbol) [0x00007FF65FF4ECB2]\n\t(No symbol) [0x00007FF65FF3E17F]\n\tBaseThreadInitThunk [0x00007FF980A57374+20]\n\tRtlUserThreadStart [0x00007FF98107CC91+33]\n"
     ]
    }
   ],
   "source": [
    "driver = webdriver.Chrome()\n",
    "#keyword = \"\\\"همراه اول\\\"\"\n",
    "#keyword = \"\\\"ایرانسل\\\"\"\n",
    "\n",
    "start_date = datetime.date(2010, 1, 1)#@param {type:\"string\"}\n",
    "end_date = datetime.date(2024, 7, 1)#@param {type:\"string\"}\n",
    "\n",
    "import pandas as pd\n",
    "df = pd.DataFrame()\n",
    "appended_data = pd.DataFrame()\n",
    "driver.get(\"https://am1.badoo.com/en/encounters\") # ورود به صفحه گوگل\n",
    "time.sleep(40)\n",
    "\n",
    "###########  while  ######################################################################################\n",
    "while start_date <= end_date:\n",
    "    #driver.get(\"https://am1.badoo.com/en/encounters\") # ورود به صفحه گوگل\n",
    "    #search_box = driver.find_element(\"class\",\"profile-action\")  # پیدا کردن المان مربوط به جستجو\n",
    "    #search_box.send_keys(\"همراه اول after:2020-11-01 before:2020-12-01\")  # وارد کردن عبارت مورد نظر\n",
    "    #search_box.send_keys(keyword + \" after:\" + str(start_date) + \" before:\" + str(start_date + relativedelta(months=1)))  # وارد کردن عبارت مورد نظر\n",
    "\n",
    "    time.sleep(2)\n",
    "    #search_box.send_keys(Keys.RETURN)  # ارسال جستجو با فشردن Enter\n",
    "    #html_content = driver.page_source # دریافت HTML صفحه جستجو شده\n",
    "    #time.sleep(31)\n",
    "\n",
    "    button = driver.find_element(\"aria-describedby\",\"onboarding-tooltip-1458\") #tools پیدا کردن المان مربوط به \n",
    "    button.click()  #tools کلیک روی دکمه\n",
    "\n",
    "    #page_html = driver.page_source #دریافت کد اچ تی ام ال\n",
    "    #soup = BeautifulSoup(page_html, 'html.parser') # تحویل به پارسر\n",
    "\n",
    "    #result_stats_div = soup.find('div', {'id': 'result-stats'})\n",
    "    #if result_stats_div:\n",
    "      #  result_stats_text = result_stats_div.text\n",
    "      #  match = re.search(r'About ([\\d,]+) results', result_stats_text)         # جدا کردن قسمت عددی از متن\n",
    "       # numeric_part = match.group(1)\n",
    "       # numeric_part = numeric_part.replace(',', '')     # حذف کاماها از عدد\n",
    "      #  numeric_value = int(numeric_part)     # تبدیل رشته به عدد صحیح\n",
    "      #  print(str(start_date) + \": \" + str(numeric_value))\n",
    "\n",
    "      #  df = df.assign(date=[start_date], keyword=[keyword], search_result=[numeric_value])\n",
    "      #  appended_data = [appended_data, df]\n",
    "      #  appended_data = pd.concat(appended_data)\n",
    "      #  appended_data.to_csv('google-selenium.csv')\n",
    "    #else:\n",
    "    #    print('تگ div با آی دی result-stats یافت نشد.')\n",
    "    #print(page_html)\n",
    "    start_date = start_date + relativedelta(months=+1)\n",
    "#appended_data = appended_data.reset_index()\n",
    "#print(appended_data)\n",
    "#appended_data.to_csv('google-selenium.csv')\n",
    "driver.quit()"
   ]
  }
 ],
 "metadata": {
  "kernelspec": {
   "display_name": "Python 3",
   "language": "python",
   "name": "python3"
  },
  "language_info": {
   "codemirror_mode": {
    "name": "ipython",
    "version": 3
   },
   "file_extension": ".py",
   "mimetype": "text/x-python",
   "name": "python",
   "nbconvert_exporter": "python",
   "pygments_lexer": "ipython3",
   "version": "3.11.1"
  }
 },
 "nbformat": 4,
 "nbformat_minor": 2
}
