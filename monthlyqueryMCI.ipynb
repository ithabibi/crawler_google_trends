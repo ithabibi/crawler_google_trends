{
  "cells": [
    {
      "cell_type": "markdown",
      "metadata": {},
      "source": [
        "<a href=\"https://colab.research.google.com/github/ithabibi/crawler_google_trends/blob/main/monthlyqueryMCI.ipynb\" target=\"_parent\"><img src=\"https://colab.research.google.com/assets/colab-badge.svg\" alt=\"Open In Colab\"/></a>"
      ]
    },
    {
      "cell_type": "markdown",
      "metadata": {},
      "source": [
        "# Google trends scraber"
      ]
    },
    {
      "cell_type": "markdown",
      "metadata": {},
      "source": [
        "## lib import"
      ]
    },
    {
      "cell_type": "code",
      "execution_count": null,
      "metadata": {
        "colab": {
          "base_uri": "https://localhost:8080/"
        },
        "id": "AGqHpGslRfzF",
        "outputId": "5f03d240-9ec7-4591-b3d7-9369795c5f77"
      },
      "outputs": [],
      "source": [
        "!pip install pytrends\n",
        "# import matplotlib\n",
        "import pandas as pd\n",
        "from pytrends.request import TrendReq\n",
        "import plotly.express as px\n",
        "import locale\n",
        "import sys  # for utf8\n",
        "import datetime\n",
        "from dateutil.relativedelta import relativedelta\n",
        "import time\n",
        "\n",
        "import os.path\n",
        "from pathlib import Path"
      ]
    },
    {
      "cell_type": "markdown",
      "metadata": {},
      "source": [
        "## run crawler"
      ]
    },
    {
      "cell_type": "code",
      "execution_count": null,
      "metadata": {
        "colab": {
          "base_uri": "https://localhost:8080/"
        },
        "id": "PMoluRZARlch",
        "outputId": "89c90f16-d319-4ea4-e53f-3f1b7323a92e"
      },
      "outputs": [],
      "source": [
        "trend1 = \"همراه اول\" #@param {type:\"string\"}\n",
        "trend2 = \"ایرانسل\" #@param {type:\"string\"}\n",
        "\n",
        "start_date = datetime.date(2020, 1, 1)#@param {type:\"string\"}\n",
        "end_date = datetime.date(2020, 5, 1)#@param {type:\"string\"}\n",
        "\n",
        "appended_data = pd.DataFrame()\n",
        "# set utf8 for terminal\n",
        "#sys.stdout.reconfigure(encoding='utf-8')\n",
        "print(\"به عنوان کدینگ پیش فرض فعال شد\", sys.getdefaultencoding())\n",
        "# display all rows from dataframe using Pandas\n",
        "pd.set_option('display.max_rows', None)\n",
        "pd.set_option('display.max_columns', None)\n",
        "# add my parameters\n",
        "trend = TrendReq(hl='fa', tz=330,)\n",
        "# keyword list\n",
        "kw_list = [trend1, trend2]\n",
        "\n",
        "########### while ##############\n",
        "delta = datetime.timedelta(days=1)\n",
        "\n",
        "while start_date <= end_date:\n",
        "  time.sleep(10)\n",
        "  timeslice = str(start_date) + \" \" + str(start_date + relativedelta(months=1))\n",
        "  if os.path.isfile(str(start_date)+\".csv\"):\n",
        "    start_date = start_date + relativedelta(months=+1)\n",
        "    continue\n",
        "  trend.build_payload(kw_list, cat=0, timeframe=timeslice, geo='', gprop='')\n",
        "  # create a dataframe of google trends suggestions\n",
        "  # df = pd.DataFrame(trend.suggestions('همراه اول'))\n",
        "  # df.head()\n",
        "  # print(df)\n",
        "  # print(\"*\" * 55)\n",
        "  rq = trend.related_queries()\n",
        "  rq.values()\n",
        "\n",
        "  #Retrival rising trend1\n",
        "  df = pd.DataFrame(rq.get(trend1).get('rising'))\n",
        "  df = df.assign(date=start_date,operator=trend1)\n",
        "  appended_data = [appended_data, df]\n",
        "  appended_data = pd.concat(appended_data)\n",
        "\n",
        "  #Retrival rising trend2\n",
        "  df = pd.DataFrame(rq.get(trend2).get('rising'))\n",
        "  df = df.assign(date=start_date,operator=trend2)\n",
        "  appended_data = [appended_data, df]\n",
        "  appended_data = pd.concat(appended_data)\n",
        "  \n",
        "  appended_data.to_csv(str(start_date) + '.csv')\n",
        "  print(str(start_date) + \" OK\")\n",
        "  appended_data.drop(df.index, inplace=True)\n",
        "  \n",
        "appended_data = appended_data.reset_index()\n",
        "print(appended_data.head(10))\n",
        "#print(str(pd.read_csv(str(start_date + relativedelta(months=-1)) + \".csv\")))\n",
        "\n",
        "#appended_data.to_csv(timeslice + '.csv')"
      ]
    },
    {
      "cell_type": "markdown",
      "metadata": {},
      "source": [
        "## merg CSV **file**"
      ]
    },
    {
      "cell_type": "code",
      "execution_count": null,
      "metadata": {},
      "outputs": [],
      "source": [
        "import glob\n",
        "\n",
        "# list all csv files only\n",
        "csv_files = glob.glob('*.{}'.format('csv'))\n",
        "print(str(csv_files))\n",
        "\n",
        "df_csv_append = pd.DataFrame()\n",
        " \n",
        "# append the CSV files\n",
        "for file in csv_files:\n",
        "    df = pd.read_csv(file)\n",
        "    df_csv_append = df_csv_append.append(df, ignore_index=True)\n",
        "df_csv_append.to_csv('merged_data.csv')\n",
        "df_csv_append"
      ]
    }
  ],
  "metadata": {
    "colab": {
      "provenance": []
    },
    "kernelspec": {
      "display_name": "Python 3",
      "name": "python3"
    },
    "language_info": {
      "name": "python"
    }
  },
  "nbformat": 4,
  "nbformat_minor": 0
}
