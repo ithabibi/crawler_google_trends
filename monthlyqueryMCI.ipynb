{
  "cells": [
    {
      "cell_type": "markdown",
      "metadata": {},
      "source": [
        "<a href=\"https://colab.research.google.com/github/ithabibi/crawler_google_trends/blob/main/monthlyqueryMCI.ipynb\" target=\"_parent\"><img src=\"https://colab.research.google.com/assets/colab-badge.svg\" alt=\"Open In Colab\"/></a>"
      ]
    },
    {
      "cell_type": "markdown",
      "metadata": {},
      "source": [
        "# Google trends **scraper**"
      ]
    },
    {
      "cell_type": "markdown",
      "metadata": {},
      "source": [
        "## Lib import\n",
        "install and import necessary library"
      ]
    },
    {
      "cell_type": "code",
      "execution_count": null,
      "metadata": {
        "colab": {
          "base_uri": "https://localhost:8080/"
        },
        "id": "AGqHpGslRfzF",
        "outputId": "5f03d240-9ec7-4591-b3d7-9369795c5f77"
      },
      "outputs": [],
      "source": [
        "!pip install pytrends\n",
        "# import matplotlib\n",
        "import pandas as pd\n",
        "from pytrends.request import TrendReq\n",
        "import plotly.express as px\n",
        "import locale\n",
        "import sys  # for utf8\n",
        "import datetime\n",
        "from dateutil.relativedelta import relativedelta\n",
        "import time\n",
        "\n",
        "import os.path\n",
        "from pathlib import Path\n",
        "\n",
        "# Connect to google drive\n",
        "from google.colab import drive\n",
        "drive.mount('/content/gdrive/', force_remount=True)\n",
        "%pwd\n",
        "%cd /content/gdrive/MyDrive/\n",
        "%pwd"
      ]
    },
    {
      "cell_type": "markdown",
      "metadata": {},
      "source": [
        "## Run crawler\n",
        "run scraper for retrieval key-phrase searched in google trends"
      ]
    },
    {
      "cell_type": "code",
      "execution_count": null,
      "metadata": {
        "colab": {
          "base_uri": "https://localhost:8080/"
        },
        "id": "PMoluRZARlch",
        "outputId": "89c90f16-d319-4ea4-e53f-3f1b7323a92e"
      },
      "outputs": [],
      "source": [
        "%cd /content/gdrive/MyDrive # set default directory\n",
        "%pwd\n",
        "!mkdir scrap \n",
        "trend1 = \"همراه اول\" #@param {type:\"string\"}\n",
        "trend2 = \"ایرانسل\" #@param {type:\"string\"}\n",
        "\n",
        "start_date = datetime.date(2017, 1, 1)#@param {type:\"string\"}\n",
        "end_date = datetime.date(2019, 3, 1)#@param {type:\"string\"}\n",
        "\n",
        "appended_data = pd.DataFrame()\n",
        "# set utf8 for terminal\n",
        "#sys.stdout.reconfigure(encoding='utf-8')\n",
        "print(\"به عنوان کدینگ پیش فرض فعال شد\", sys.getdefaultencoding())\n",
        "# display all rows from data frame using Pandas\n",
        "pd.set_option('display.max_rows', None)\n",
        "pd.set_option('display.max_columns', None)\n",
        "# add my parameters\n",
        "#trend = TrendReq(hl='fa', tz=330,)\n",
        "# keyword list\n",
        "kw_list = [trend1, trend2]\n",
        "\n",
        "\n",
        "###########  while  ######################################################################################\n",
        "delta = datetime.timedelta(days=1)\n",
        "\n",
        "while start_date <= end_date:\n",
        "  time_slice = str(start_date) + \" \" + str(start_date + relativedelta(months=1))\n",
        "  if os.path.isfile('/content/gdrive/MyDrive/scrap/' + str(start_date)+\".csv\"): # check exist file\n",
        "    print(str(start_date)+\".csv is exist\")\n",
        "    start_date = start_date + relativedelta(months=+1)\n",
        "    continue\n",
        "  trend = TrendReq(hl='fa', tz=330,)\n",
        "  trend.build_payload(kw_list, cat=0, timeframe=time_slice, geo='', gprop='')\n",
        "  rq = trend.related_queries()\n",
        "  rq.values()\n",
        "\n",
        "  #Retrieval rising trend1\n",
        "  df = pd.DataFrame(rq.get(trend1).get('rising'))\n",
        "  df = df.assign(date=start_date, keyword=trend1, get_type='rising')\n",
        "  appended_data = [appended_data, df]\n",
        "  appended_data = pd.concat(appended_data)\n",
        "\n",
        "  df = pd.DataFrame(rq.get(trend1).get('top'))\n",
        "  df = df.assign(date=start_date, keyword=trend1 , get_type='top' )\n",
        "  appended_data = [appended_data, df]\n",
        "  appended_data = pd.concat(appended_data)\n",
        "\n",
        "  #Retrieval rising trend2\n",
        "  df = pd.DataFrame(rq.get(trend2).get('rising'))\n",
        "  df = df.assign(date=start_date, keyword=trend2, get_type='rising')\n",
        "  appended_data = [appended_data, df]\n",
        "  appended_data = pd.concat(appended_data)\n",
        "\n",
        "  df = pd.DataFrame(rq.get(trend2).get('top'))\n",
        "  df = df.assign(date=start_date, keyword=trend2, get_type='top')\n",
        "  appended_data = [appended_data, df]\n",
        "  appended_data = pd.concat(appended_data)\n",
        "  \n",
        "  appended_data.to_csv('/content/gdrive/MyDrive/scrap/' + str(start_date) + '.csv')\n",
        "  print(str(start_date) + \" OK\")\n",
        "  appended_data.drop(df.index, inplace=True)\n",
        "  start_date = start_date + relativedelta(months=+1)\n",
        "\n",
        "  # politeness Scraping\n",
        "  del trend\n",
        "  time.sleep(5) \n",
        "  \n",
        "appended_data = appended_data.reset_index()\n",
        "print(appended_data.head(10))\n",
        "#print(str(pd.read_csv(str(start_date + relativedelta(months=-1)) + \".csv\")))\n",
        "\n",
        "#appended_data.to_csv(time_slice + '.csv')"
      ]
    },
    {
      "cell_type": "markdown",
      "metadata": {},
      "source": [
        "## Merg CSV **file**\n",
        "In order to download files more easily, you can merge them together"
      ]
    },
    {
      "cell_type": "code",
      "execution_count": null,
      "metadata": {},
      "outputs": [],
      "source": [
        "import glob\n",
        "\n",
        "# list all csv files only\n",
        "csv_files = glob.glob('scrap/' +'*.{}'.format('csv'))\n",
        "print(str(csv_files))\n",
        "\n",
        "df_csv_append = pd.DataFrame()\n",
        " \n",
        "# append the CSV files\n",
        "for file in csv_files:\n",
        "    df = pd.read_csv(file)\n",
        "    df_csv_append = df_csv_append.append(df, ignore_index=True)\n",
        "df_csv_append.to_csv('scrap/merged_data.csv')\n",
        "df_csv_append.head(10)"
      ]
    },
    {
      "cell_type": "markdown",
      "metadata": {},
      "source": [
        "## Download folder From google colab\n",
        "You can also upload the collected files to your Google Drive. Or download the files for later use."
      ]
    },
    {
      "cell_type": "code",
      "execution_count": null,
      "metadata": {},
      "outputs": [],
      "source": [
        "#from google.colab import drive\n",
        "#drive.mount('/content/gdrive/', force_remount=True)\n",
        "\n",
        "%cd /content/gdrive/MyDrive/\n",
        "!zip -r colabcontent.zip  /content/scrap/*.csv -j # The j option doesn't store directory information.\n",
        "\n",
        "from google.colab import files\n",
        "files.download('colabcontent.zip')"
      ]
    },
    {
      "cell_type": "markdown",
      "metadata": {},
      "source": [
        "## Upload file from google drive to google colab\n",
        "You can upload files that you have already uploaded to your Google Drive. Re-upload to Google Collab."
      ]
    },
    {
      "cell_type": "code",
      "execution_count": null,
      "metadata": {},
      "outputs": [],
      "source": [
        "!cp /content/gdrive/MyDrive/colabcontent.zip /content/scrap/\n",
        "%cd /content/scrap/\n",
        "!unzip colabcontent.zip"
      ]
    }
  ],
  "metadata": {
    "colab": {
      "provenance": []
    },
    "kernelspec": {
      "display_name": "Python 3",
      "name": "python3"
    },
    "language_info": {
      "name": "python"
    }
  },
  "nbformat": 4,
  "nbformat_minor": 0
}
