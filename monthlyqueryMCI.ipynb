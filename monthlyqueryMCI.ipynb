{
  "cells": [
    {
      "cell_type": "code",
      "execution_count": null,
      "metadata": {
        "colab": {
          "base_uri": "https://localhost:8080/"
        },
        "id": "AGqHpGslRfzF",
        "outputId": "5f03d240-9ec7-4591-b3d7-9369795c5f77"
      },
      "outputs": [],
      "source": [
        "!pip install pytrends\n",
        "# import matplotlib\n",
        "import pandas as pd\n",
        "from pytrends.request import TrendReq\n",
        "import plotly.express as px\n",
        "import locale\n",
        "import sys  # for utf8\n",
        "import datetime\n",
        "from dateutil.relativedelta import relativedelta\n"
      ]
    },
    {
      "cell_type": "code",
      "execution_count": null,
      "metadata": {
        "colab": {
          "base_uri": "https://localhost:8080/"
        },
        "id": "PMoluRZARlch",
        "outputId": "89c90f16-d319-4ea4-e53f-3f1b7323a92e"
      },
      "outputs": [],
      "source": [
        "appended_data = pd.DataFrame()\n",
        "# set utf8 for terminal\n",
        "#sys.stdout.reconfigure(encoding='utf-8')\n",
        "print(\"به عنوان کدینگ پیش فرض فعال شد\", sys.getdefaultencoding())\n",
        "# display all rows from dataframe using Pandas\n",
        "pd.set_option('display.max_rows', None)\n",
        "pd.set_option('display.max_columns', None)\n",
        "# add my parameters\n",
        "trend = TrendReq(hl='fa', tz=330,)\n",
        "# keyword list\n",
        "kw_list = ['همراه اول', 'ایرانسل']"
      ]
    },
    {
      "cell_type": "code",
      "execution_count": null,
      "metadata": {
        "colab": {
          "base_uri": "https://localhost:8080/",
          "height": 591
        },
        "id": "aPMjXAKURlkv",
        "outputId": "7b98c56b-1b85-4f2b-c03c-70dd2875337e"
      },
      "outputs": [],
      "source": [
        "########### while ##############\n",
        "start_date = datetime.date(2020, 1, 1)\n",
        "end_date = datetime.date(2023, 10, 1)\n",
        "delta = datetime.timedelta(days=1)\n",
        "\n",
        "while start_date <= end_date:\n",
        "\n",
        "    timeslice = str(start_date) + \" \" + \\\n",
        "        str(start_date + relativedelta(months=1))\n",
        "    print(timeslice)\n",
        "    trend.build_payload(\n",
        "        kw_list, cat=0, timeframe=timeslice, geo='', gprop='')\n",
        "    # create a dataframe of google trends suggestions\n",
        "    # df = pd.DataFrame(trend.suggestions('همراه اول'))\n",
        "    # df.head()\n",
        "    # print(df)\n",
        "    # print(\"*\" * 55)\n",
        "    rq = trend.related_queries()\n",
        "    rq.values()\n",
        "    df = pd.DataFrame(rq.get('همراه اول').get('rising'))\n",
        "    df.head(100)\n",
        "    # print(df)\n",
        "\n",
        "    df = df.assign(date=start_date)\n",
        "    df['operator'] = 'همراه اول'\n",
        "\n",
        "    # df=df.assign(**{'datee': start_date, 'col2_new_2': 'dogs', 'col3_new_3': 3})\n",
        "    # df.insert(2,\"test\", start_date, False)\n",
        "    # df.insert(3,\"test2\", start_date, False)\n",
        "\n",
        "    appended_data = [appended_data, df]\n",
        "    appended_data = pd.concat(appended_data)\n",
        "\n",
        "    # appended_data = appended_data.append(df1, ignore_index=True)\n",
        "    start_date = start_date + relativedelta(months=+1)\n",
        "appended_data = appended_data.reset_index()\n",
        "print(appended_data)\n",
        "\n",
        "appended_data.to_csv('MCImonthlyquery.csv')\n"
      ]
    }
  ],
  "metadata": {
    "colab": {
      "provenance": []
    },
    "kernelspec": {
      "display_name": "Python 3",
      "name": "python3"
    },
    "language_info": {
      "name": "python"
    }
  },
  "nbformat": 4,
  "nbformat_minor": 0
}
