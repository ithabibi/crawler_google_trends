{
 "cells": [
  {
   "cell_type": "code",
   "execution_count": null,
   "metadata": {},
   "outputs": [],
   "source": [
    "#@title Python Package and library version\n",
    "!pip install selenium "
   ]
  },
  {
   "cell_type": "markdown",
   "metadata": {},
   "source": [
    "### execute bat file"
   ]
  },
  {
   "cell_type": "code",
   "execution_count": 5,
   "metadata": {},
   "outputs": [],
   "source": [
    "#@title Python Package and library version\n",
    "import requests\n",
    "from bs4 import BeautifulSoup\n",
    "import IPython\n",
    "import IPython.display\n",
    "\n",
    "import time\n",
    "import re\n",
    "\n",
    "import pandas as pd\n",
    "import datetime\n",
    "from dateutil.relativedelta import relativedelta\n",
    "import os.path\n",
    "\n",
    "from selenium import webdriver\n",
    "from selenium.webdriver.common.by import By\n",
    "from selenium.webdriver.common.keys import Keys\n",
    "from selenium.webdriver.chrome.options import Options\n",
    "\n",
    "options = Options()"
   ]
  },
  {
   "cell_type": "markdown",
   "metadata": {},
   "source": [
    "## Selenium preparation"
   ]
  },
  {
   "cell_type": "code",
   "execution_count": 26,
   "metadata": {},
   "outputs": [],
   "source": [
    "#@title Organicizing the browser 2\n",
    "\n",
    "options.add_experimental_option('debuggerAddress', '127.0.0.1:9223')\n",
    "\n",
    "driver = webdriver.Chrome(options=options)\n",
    "driver.implicitly_wait(10)\n",
    "# driver.maximize_window()\n",
    "\n",
    "driver.execute_script(\"Object.defineProperty(navigator, 'webdriver', {get: () => undefined});\")\n",
    "driver.get('https://trends.google.com')\n",
    "driver.get('https://trends.google.com/trends/explore')\n"
   ]
  },
  {
   "cell_type": "markdown",
   "metadata": {},
   "source": [
    "## download\n"
   ]
  },
  {
   "cell_type": "code",
   "execution_count": 30,
   "metadata": {},
   "outputs": [
    {
     "name": "stdout",
     "output_type": "stream",
     "text": [
      "2020-01-01 OK\n",
      "end task\n"
     ]
    }
   ],
   "source": [
    "keyword1 = \"همراه اول\"  # @param {type:\"string\"}\n",
    "keyword2 = \"ایرانسل\"  # @param {type:\"string\"}\n",
    "#keyword1 = \"java\"  # @param {type:\"string\"}\n",
    "#keyword2 = \"python\"  # @param {type:\"string\"}\n",
    "\n",
    "start_date = datetime.date(2020, 1, 1)  # @param {type:\"string\"}\n",
    "end_date = datetime.date(2020, 2, 1)  # @param {type:\"string\"}\n",
    "file_path=\"token.txt\"\n",
    "\n",
    "while start_date < end_date:    \n",
    "    # Check for 'start_date' in file lines\n",
    "    with open(file_path, 'r', encoding='utf-8') as file:\n",
    "        lines = file.readlines()\n",
    "    if any(str(start_date) in line for line in lines):\n",
    "        print(str(start_date) + \".csv already exists\")\n",
    "        start_date = start_date + relativedelta(months=+1)\n",
    "        continue\n",
    "\n",
    "    #driver.get(\"https://trends.google.com/trends/explore?date=2024-09-11%202024-10-11&geo=IR&q=همراه%20اول,ایرانسل&hl=en-US\") # ورود به صفحه گوگل\n",
    "    driver.get(\"https://trends.google.com/trends/explore?date=\" + str(start_date) + \"%20\"+str(start_date + relativedelta(months=1))+\"&geo=IR&q=\" +\n",
    "               keyword1 + \",\" + keyword2 + \"&hl=en-US\")\n",
    "    time.sleep(37)\n",
    "\n",
    "    try:\n",
    "        download_button = driver.find_element(\n",
    "            By.XPATH, \"/html/body/div[2]/div[2]/div/md-content/div/div/div[5]/trends-widget/ng-include/widget/div/div/div/widget-actions/div/button[1]\")\n",
    "        download_button.click()\n",
    "        time.sleep(31)\n",
    "        download_button = driver.find_element(\n",
    "            By.XPATH, \"/html/body/div[2]/div[2]/div/md-content/div/div/div[8]/trends-widget/ng-include/widget/div/div/div/widget-actions/div/button[1]\")\n",
    "        download_button.click()\n",
    "    except Exception as e:\n",
    "        print(f\"Error: {e}\")\n",
    "\n",
    "    # Add 'start_date' to file lines\n",
    "    with open(file_path, 'a', encoding='utf-8') as file:\n",
    "        file.write('\\n' +str(start_date))\n",
    "        \n",
    "    # driver.refresh() #refresh browser\n",
    "    print(str(start_date) + \" OK\")\n",
    "    start_date = start_date + relativedelta(months=+1)\n",
    "    time.sleep(29)\n",
    "print(\"end task\")\n"
   ]
  },
  {
   "cell_type": "markdown",
   "metadata": {},
   "source": [
    "### close bat file"
   ]
  },
  {
   "cell_type": "code",
   "execution_count": null,
   "metadata": {},
   "outputs": [],
   "source": [
    "driver.get(\"https://trends.google.com/trends/explore?date=2024-09-11%202024-10-11&geo=IR&q=همراه%20اول,ایرانسل&hl=en-US\") # ورود به صفحه گوگل\n",
    "try:\n",
    "    download_button = driver.find_element(By.XPATH, \"/html/body/div[2]/div[2]/div/md-content/div/div/div[5]/trends-widget/ng-include/widget/div/div/div/widget-actions/div/button[1]\")\n",
    "    download_button.click()\n",
    "except Exception as e:\n",
    "    print(f\"Error: {e}\")\n",
    "\n",
    "# time.sleep(5)\n",
    "# driver.get(\"https://trends.google.com/trends/explore?date=2024-07-11%202024-08-11&geo=IR&q=همراه%20اول,ایرانسل&hl=en-US\") # ورود به صفحه گوگل\n",
    "\n",
    "# try:\n",
    "#     download_button = driver.find_element(By.XPATH, \"/html/body/div[2]/div[2]/div/md-content/div/div/div[5]/trends-widget/ng-include/widget/div/div/div/widget-actions/div/button[1]\")\n",
    "#     download_button.click()\n",
    "# except Exception as e:\n",
    "#     print(f\"Error: {e}\")\n",
    "\n",
    "# try:\n",
    "#    download_button = driver.find_elements(By.XPATH, \"/html/body/div[3]/div[2]/div/md-content/div/div/div[5]/trends-widget/ng-include/widget/div/div/div/widget-actions/div/button[1]\")\n",
    "#    download_button[3].click()\n",
    "# except Exception as e:\n",
    "#    print(f\"Error: {e}\")\n",
    "\n",
    "#try:\n",
    "#    download_button = driver.find_element(By.CSS_SELECTOR, 'button.widget-actions-item.export')\n",
    "#    download_button.click()\n",
    "#except Exception as e:\n",
    "#    print(f\"Error: {e}\")\n",
    "\n",
    "# صبر کردن برای دانلود فایل (بسته به حجم فایل ممکن است زمان متفاوتی نیاز باشد)\n",
    "#time.sleep(10)  # زمان مناسب برای دانلود فایل\n",
    "\n",
    "# بستن WebDriver\n",
    "#driver.quit()"
   ]
  },
  {
   "cell_type": "markdown",
   "metadata": {},
   "source": [
    "## do organic the Browser"
   ]
  },
  {
   "cell_type": "code",
   "execution_count": null,
   "metadata": {},
   "outputs": [],
   "source": [
    "#@title Organicizing the browser 1\n",
    "\n",
    "########## Performance and resource optimization ##########\n",
    "# options.add_argument('--disable-gpu')\n",
    "# options.add_argument('--disable-software-rasterizer')\n",
    "# options.add_argument('--disable-dev-shm-usage')\n",
    "# options.add_argument('--no-sandbox')\n",
    "# options.add_argument('--disable-background-networking')\n",
    "# options.add_argument('--disable-cache')\n",
    "# options.add_argument('--disable-webgl')\n",
    "# options.add_argument('--disable-renderer-backgrounding')\n",
    "# options.add_argument('--disable-backgrounding-occluded-windows')\n",
    "# options.add_argument('--disable-extensions')\n",
    "\n",
    "# ########## Security and anti-bot measures ##########\n",
    "# options.add_argument('--disable-blink-features=AutomationControlled')\n",
    "# options.add_argument('--ignore-certificate-errors')\n",
    "# options.add_argument('--ignore-ssl-errors')\n",
    "# options.add_argument('--disable-webrtc')\n",
    "# options.add_argument('--disable-webrtc-ip-handling')\n",
    "# options.add_argument('--disable-permissions-api')\n",
    "# options.add_argument('--allow-insecure-localhost')\n",
    "# options.add_argument('--disable-site-isolation-trials')\n",
    "# options.add_argument('--disable-blink-features=AutomationControlled')\n",
    "\n",
    "# ########## Privacy and annoyance reduction ##########\n",
    "# options.add_argument('--incognito')\n",
    "# options.add_argument('--no-default-browser-check')\n",
    "# options.add_argument('--no-first-run')\n",
    "# options.add_argument('--disable-notifications')\n",
    "# options.add_argument('--disable-translate')\n",
    "# options.add_argument('--mute-audio')\n",
    "# options.add_argument('--hide-scrollbars')\n",
    "# options.add_argument('--blink-settings=imagesEnabled=false')\n",
    "\n",
    "# ########## Test automation optimizations and debugging ##########\n",
    "# options.add_argument('--disable-popup-blocking')\n",
    "# options.add_argument('--disable-print-preview')\n",
    "# options.add_argument('--disable-pdf-viewer')\n",
    "# options.add_argument('--disable-url-fetcher')\n",
    "# options.add_argument('--disable-navigation-preload')\n",
    "# options.add_argument('--disable-browser-side-navigation')\n",
    "# options.add_argument('--disable-logging')\n",
    "# options.add_argument('--disable-devtools-autosave')\n",
    "# options.add_argument('--disable-experimental-accessibility')\n",
    "# options.add_argument('--disable-prompt-on-repost')\n",
    "# options.add_argument('--disable-password-generation')\n",
    "\n",
    "# ############# Advanced and custom configurations ##########\n",
    "# options.add_argument('--lang=fa-IR')\n",
    "# options.add_argument('--timezone=Iran/Tehran')\n",
    "# options.add_argument('--disable-google-api-key')\n",
    "# options.add_argument('--disable-blink-features=NavigationTimingAPI')\n",
    "# options.add_argument('--no-zygote')\n",
    "# options.add_argument('--disable-file-system')\n",
    "# options.add_experimental_option('excludeSwitches', ['enable-automation'])\n",
    "# options.add_experimental_option('useAutomationExtension', False)"
   ]
  }
 ],
 "metadata": {
  "kernelspec": {
   "display_name": "Python 3",
   "language": "python",
   "name": "python3"
  },
  "language_info": {
   "codemirror_mode": {
    "name": "ipython",
    "version": 3
   },
   "file_extension": ".py",
   "mimetype": "text/x-python",
   "name": "python",
   "nbconvert_exporter": "python",
   "pygments_lexer": "ipython3",
   "version": "3.11.1"
  }
 },
 "nbformat": 4,
 "nbformat_minor": 2
}
