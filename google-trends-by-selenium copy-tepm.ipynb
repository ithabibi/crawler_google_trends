{
 "cells": [
  {
   "cell_type": "code",
   "execution_count": 10,
   "metadata": {},
   "outputs": [
    {
     "name": "stdout",
     "output_type": "stream",
     "text": [
      "Requirement already satisfied: selenium in c:\\users\\administrator\\appdata\\local\\programs\\python\\python311\\lib\\site-packages (4.11.2)\n",
      "Requirement already satisfied: urllib3<3,>=1.26 in c:\\users\\administrator\\appdata\\local\\programs\\python\\python311\\lib\\site-packages (from urllib3[socks]<3,>=1.26->selenium) (1.26.14)\n",
      "Requirement already satisfied: trio~=0.17 in c:\\users\\administrator\\appdata\\local\\programs\\python\\python311\\lib\\site-packages (from selenium) (0.22.2)\n",
      "Requirement already satisfied: trio-websocket~=0.9 in c:\\users\\administrator\\appdata\\local\\programs\\python\\python311\\lib\\site-packages (from selenium) (0.10.3)\n",
      "Requirement already satisfied: certifi>=2021.10.8 in c:\\users\\administrator\\appdata\\local\\programs\\python\\python311\\lib\\site-packages (from selenium) (2022.12.7)\n",
      "Requirement already satisfied: attrs>=20.1.0 in c:\\users\\administrator\\appdata\\local\\programs\\python\\python311\\lib\\site-packages (from trio~=0.17->selenium) (22.2.0)\n",
      "Requirement already satisfied: sortedcontainers in c:\\users\\administrator\\appdata\\local\\programs\\python\\python311\\lib\\site-packages (from trio~=0.17->selenium) (2.4.0)\n",
      "Requirement already satisfied: idna in c:\\users\\administrator\\appdata\\local\\programs\\python\\python311\\lib\\site-packages (from trio~=0.17->selenium) (3.4)\n",
      "Requirement already satisfied: outcome in c:\\users\\administrator\\appdata\\local\\programs\\python\\python311\\lib\\site-packages (from trio~=0.17->selenium) (1.2.0)\n",
      "Requirement already satisfied: sniffio in c:\\users\\administrator\\appdata\\local\\programs\\python\\python311\\lib\\site-packages (from trio~=0.17->selenium) (1.3.0)\n",
      "Requirement already satisfied: cffi>=1.14 in c:\\users\\administrator\\appdata\\local\\programs\\python\\python311\\lib\\site-packages (from trio~=0.17->selenium) (1.15.1)\n",
      "Requirement already satisfied: exceptiongroup in c:\\users\\administrator\\appdata\\local\\programs\\python\\python311\\lib\\site-packages (from trio-websocket~=0.9->selenium) (1.1.3)\n",
      "Requirement already satisfied: wsproto>=0.14 in c:\\users\\administrator\\appdata\\local\\programs\\python\\python311\\lib\\site-packages (from trio-websocket~=0.9->selenium) (1.2.0)\n",
      "Requirement already satisfied: PySocks!=1.5.7,<2.0,>=1.5.6 in c:\\users\\administrator\\appdata\\local\\programs\\python\\python311\\lib\\site-packages (from urllib3[socks]<3,>=1.26->selenium) (1.7.1)\n",
      "Requirement already satisfied: pycparser in c:\\users\\administrator\\appdata\\local\\programs\\python\\python311\\lib\\site-packages (from cffi>=1.14->trio~=0.17->selenium) (2.21)\n",
      "Requirement already satisfied: h11<1,>=0.9.0 in c:\\users\\administrator\\appdata\\local\\programs\\python\\python311\\lib\\site-packages (from wsproto>=0.14->trio-websocket~=0.9->selenium) (0.14.0)\n",
      "Note: you may need to restart the kernel to use updated packages.\n"
     ]
    }
   ],
   "source": [
    "pip install selenium "
   ]
  },
  {
   "cell_type": "code",
   "execution_count": 11,
   "metadata": {},
   "outputs": [],
   "source": [
    "import requests\n",
    "from bs4 import BeautifulSoup\n",
    "import IPython\n",
    "import IPython.display\n",
    "\n",
    "import time\n",
    "import re\n",
    "\n",
    "import pandas as pd\n",
    "import datetime\n",
    "from dateutil.relativedelta import relativedelta\n",
    "import os.path\n",
    "\n",
    "from selenium import webdriver\n",
    "from selenium.webdriver.common.by import By\n",
    "from selenium.webdriver.common.keys import Keys\n",
    "from selenium.webdriver.chrome.options import Options\n"
   ]
  },
  {
   "cell_type": "code",
   "execution_count": null,
   "metadata": {},
   "outputs": [],
   "source": [
    "# Use Options() instead of ChromeOptions()\n",
    "options = Options()\n",
    "\n",
    "# ### Performance and resource optimization\n",
    "# options.add_argument('--disable-gpu')\n",
    "# options.add_argument('--disable-software-rasterizer')\n",
    "# options.add_argument('--disable-dev-shm-usage')\n",
    "# options.add_argument('--no-sandbox')\n",
    "# options.add_argument('--disable-background-networking')\n",
    "# options.add_argument('--disable-cache')\n",
    "# options.add_argument('--disable-webgl')\n",
    "# options.add_argument('--disable-renderer-backgrounding')\n",
    "# options.add_argument('--disable-backgrounding-occluded-windows')\n",
    "# options.add_argument('--disable-extensions')\n",
    "\n",
    "# ### Security and anti-bot measures\n",
    "# options.add_argument('--disable-blink-features=AutomationControlled')\n",
    "# options.add_argument('--ignore-certificate-errors')\n",
    "# options.add_argument('--ignore-ssl-errors')\n",
    "# options.add_argument('--disable-webrtc')\n",
    "# options.add_argument('--disable-webrtc-ip-handling')\n",
    "# options.add_argument('--disable-permissions-api')\n",
    "# options.add_argument('--allow-insecure-localhost')\n",
    "# options.add_argument('--disable-site-isolation-trials')\n",
    "# options.add_argument('--disable-blink-features=AutomationControlled')\n",
    "\n",
    "# ### Privacy and annoyance reduction\n",
    "# options.add_argument('--incognito')\n",
    "# options.add_argument('--no-default-browser-check')\n",
    "# options.add_argument('--no-first-run')\n",
    "# options.add_argument('--disable-notifications')\n",
    "# options.add_argument('--disable-translate')\n",
    "# options.add_argument('--mute-audio')\n",
    "# options.add_argument('--hide-scrollbars')\n",
    "# options.add_argument('--blink-settings=imagesEnabled=false')\n",
    "\n",
    "# ### Test automation optimizations and debugging\n",
    "# options.add_argument('--disable-popup-blocking')\n",
    "# options.add_argument('--disable-print-preview')\n",
    "# options.add_argument('--disable-pdf-viewer')\n",
    "# options.add_argument('--disable-url-fetcher')\n",
    "# options.add_argument('--disable-navigation-preload')\n",
    "# options.add_argument('--disable-browser-side-navigation')\n",
    "# options.add_argument('--disable-logging')\n",
    "# options.add_argument('--disable-devtools-autosave')\n",
    "# options.add_argument('--disable-experimental-accessibility')\n",
    "# options.add_argument('--disable-prompt-on-repost')\n",
    "# options.add_argument('--disable-password-generation')\n",
    "\n",
    "# ### Advanced and custom configurations\n",
    "# options.add_argument('--lang=fa-IR')\n",
    "# options.add_argument('--timezone=Iran/Tehran')\n",
    "# options.add_argument('--disable-google-api-key')\n",
    "# options.add_argument('--disable-blink-features=NavigationTimingAPI')\n",
    "# options.add_argument('--no-zygote')\n",
    "# options.add_argument('--disable-file-system')\n",
    "# options.add_experimental_option('excludeSwitches', ['enable-automation'])\n",
    "#options.add_experimental_option('useAutomationExtension', False)\n",
    "\n",
    "options.add_experimental_option('debuggerAddress', '127.0.0.1:9222')\n",
    "\n",
    "driver = webdriver.Chrome(options=options)\n",
    "driver.implicitly_wait(10)\n",
    "driver.execute_script(\"Object.defineProperty(navigator, 'webdriver', {get: () => undefined});\")\n",
    "driver.get('https://trends.google.com')\n",
    "driver.get('https://trends.google.com/trends/explore')"
   ]
  },
  {
   "cell_type": "markdown",
   "metadata": {},
   "source": [
    "## download\n"
   ]
  },
  {
   "cell_type": "code",
   "execution_count": null,
   "metadata": {},
   "outputs": [],
   "source": [
    "#driver.maximize_window()  \n",
    "\n",
    "keyword1 = \"همراه اول\"#@param {type:\"string\"}\n",
    "keyword2 = \"ایرانسل\"#@param {type:\"string\"}\n",
    "\n",
    "start_date = datetime.date(2024, 8, 1)#@param {type:\"string\"}\n",
    "end_date = datetime.date(2024, 9, 1)#@param {type:\"string\"}\n",
    "\n",
    "while start_date <= end_date:\n",
    "    #driver.get(\"https://trends.google.com/trends/explore?date=2024-09-11%202024-10-11&geo=IR&q=همراه%20اول,ایرانسل&hl=en-US\")\n",
    "    driver.get(\"https://trends.google.com/trends/explore?date=2024-07-11%202024-08-11&geo=IR&q=\" + keyword1 + \",\" + keyword2 +\"&hl=en-US\") \n",
    "    time.sleep(2)\n",
    "    #cookie_button = driver.find_element(By.XPATH, \"/html/body/div[1]/div/span[2]/a[2]\")\n",
    "    #cookie_button.click()\n",
    "    #try:\n",
    "    download_button = driver.find_element(By.XPATH, \"/html/body/div[2]/div[2]/div/md-content/div/div/div[5]/trends-widget/ng-include/widget/div/div/div/widget-actions/div/button[1]\")\n",
    "    download_button.click()\n",
    "    #except Exception as e:\n",
    "    #    print(f\"Error: {e}\")\n",
    "\n",
    "    time.sleep(2)\n",
    "    #driver.refresh() #refresh browser\n",
    "    start_date = start_date + relativedelta(months=+1)\n"
   ]
  }
 ],
 "metadata": {
  "kernelspec": {
   "display_name": "Python 3",
   "language": "python",
   "name": "python3"
  },
  "language_info": {
   "codemirror_mode": {
    "name": "ipython",
    "version": 3
   },
   "file_extension": ".py",
   "mimetype": "text/x-python",
   "name": "python",
   "nbconvert_exporter": "python",
   "pygments_lexer": "ipython3",
   "version": "3.11.1"
  }
 },
 "nbformat": 4,
 "nbformat_minor": 2
}
