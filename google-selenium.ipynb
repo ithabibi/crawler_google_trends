{
 "cells": [
  {
   "cell_type": "code",
   "execution_count": null,
   "metadata": {},
   "outputs": [],
   "source": [
    "pip install selenium 4.22.0"
   ]
  },
  {
   "cell_type": "code",
   "execution_count": 17,
   "metadata": {},
   "outputs": [],
   "source": [
    "import requests\n",
    "from bs4 import BeautifulSoup\n",
    "import IPython\n",
    "import IPython.display\n",
    "import time\n",
    "from selenium import webdriver\n",
    "import re\n",
    "from selenium import webdriver\n",
    "from selenium.webdriver.common.by import By\n",
    "from selenium.webdriver.common.keys import Keys"
   ]
  },
  {
   "cell_type": "code",
   "execution_count": null,
   "metadata": {},
   "outputs": [],
   "source": [
    "query = \"java\"\n",
    "url = f\"https://www.google.com/search?q={query}\"\n",
    "\n",
    "headers = {\n",
    "    \"User-Agent\": \"Mozilla/5.0 (Windows NT 10.0; Win64; x64) AppleWebKit/537.36 (KHTML, like Gecko) Chrome/58.0.3029.110 Safari/537.3\"\n",
    "}\n",
    "print(url)\n",
    "response = requests.get(url, headers=headers)\n",
    "IPython.display.HTML(response.text)"
   ]
  },
  {
   "cell_type": "code",
   "execution_count": 21,
   "metadata": {},
   "outputs": [
    {
     "name": "stdout",
     "output_type": "stream",
     "text": [
      "About 8,030,000 results (0.25 seconds) \n",
      "8030000\n"
     ]
    }
   ],
   "source": [
    "driver = webdriver.Chrome()\n",
    "\n",
    "driver.get(\"https://www.google.com\") # ورود به صفحه گوگل\n",
    "search_box = driver.find_element(\"name\",\"q\")  # پیدا کردن المان مربوط به جستجو\n",
    "search_box.send_keys(\"همراه اول after:2020-11-01 before:2020-12-01\")  # وارد کردن عبارت مورد نظر\n",
    "time.sleep(2)\n",
    "search_box.send_keys(Keys.RETURN)  # ارسال جستجو با فشردن Enter\n",
    "\n",
    "html_content = driver.page_source # دریافت HTML صفحه جستجو شده\n",
    "time.sleep(1)\n",
    "\n",
    "button = driver.find_element(\"id\",\"hdtb-tls\") #tools پیدا کردن المان مربوط به \n",
    "button.click()  #tools کلیک روی دکمه\n",
    "\n",
    "page_html = driver.page_source \n",
    "soup = BeautifulSoup(page_html, 'html.parser')\n",
    "\n",
    "result_stats_div = soup.find('div', {'id': 'result-stats'})\n",
    "if result_stats_div:\n",
    "    result_stats_text = result_stats_div.text\n",
    "    print(result_stats_text)\n",
    "    # جدا کردن قسمت عددی از متن\n",
    "    match = re.search(r'About ([\\d,]+) results', result_stats_text)\n",
    "    numeric_part = match.group(1)\n",
    "    numeric_part = numeric_part.replace(',', '')     # حذف کاماها از عدد\n",
    "    numeric_value = int(numeric_part)     # تبدیل رشته به عدد صحیح\n",
    "    print(numeric_value)\n",
    "else:\n",
    "    print('تگ div با آی دی result-stats یافت نشد.')\n",
    "\n",
    "\n",
    "#print(page_html)"
   ]
  }
 ],
 "metadata": {
  "kernelspec": {
   "display_name": "Python 3",
   "language": "python",
   "name": "python3"
  },
  "language_info": {
   "codemirror_mode": {
    "name": "ipython",
    "version": 3
   },
   "file_extension": ".py",
   "mimetype": "text/x-python",
   "name": "python",
   "nbconvert_exporter": "python",
   "pygments_lexer": "ipython3",
   "version": "3.11.1"
  }
 },
 "nbformat": 4,
 "nbformat_minor": 2
}
