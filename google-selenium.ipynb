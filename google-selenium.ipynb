{
 "cells": [
  {
   "cell_type": "code",
   "execution_count": null,
   "metadata": {},
   "outputs": [],
   "source": [
    "pip install selenium 4.22.0"
   ]
  },
  {
   "cell_type": "code",
   "execution_count": 2,
   "metadata": {},
   "outputs": [],
   "source": [
    "import requests\n",
    "from bs4 import BeautifulSoup\n",
    "import IPython\n",
    "import IPython.display\n",
    "import time\n",
    "from selenium import webdriver\n",
    "import re\n",
    "from selenium.webdriver.common.by import By\n",
    "from selenium.webdriver.common.keys import Keys\n",
    "\n",
    "import pandas as pd\n",
    "import datetime\n",
    "from dateutil.relativedelta import relativedelta\n",
    "import os.path"
   ]
  },
  {
   "cell_type": "code",
   "execution_count": null,
   "metadata": {},
   "outputs": [],
   "source": [
    "c = \"همراه اول\"\n",
    "url = f\"https://www.google.com/search?q={query}\"\n",
    "\n",
    "headers = {\n",
    "    \"User-Agent\": \"Mozilla/5.0 (Windows NT 10.0; Win64; x64) AppleWebKit/537.36 (KHTML, like Gecko) Chrome/58.0.3029.110 Safari/537.3\"\n",
    "}\n",
    "print(url)\n",
    "response = requests.get(url, headers=headers)\n",
    "IPython.display.HTML(response.text)"
   ]
  },
  {
   "cell_type": "code",
   "execution_count": 21,
   "metadata": {},
   "outputs": [
    {
     "name": "stdout",
     "output_type": "stream",
     "text": [
      "2020-12-01: 7570000\n",
      "2021-01-01: 3820000\n",
      "2021-02-01: 7370000\n",
      "   index        date    keyword  search_result\n",
      "0      0  2020-12-01  همراه اول        7570000\n",
      "1      0  2021-01-01  همراه اول        3820000\n",
      "2      0  2021-02-01  همراه اول        7370000\n"
     ]
    }
   ],
   "source": [
    "driver = webdriver.Chrome()\n",
    "keyword = \"همراه اول\"\n",
    "start_date = datetime.date(2020, 12, 1)#@param {type:\"string\"}\n",
    "end_date = datetime.date(2021, 2, 1)#@param {type:\"string\"}\n",
    "import pandas as pd\n",
    "appended_data = pd.DataFrame()\n",
    "\n",
    "###########  while  ######################################################################################\n",
    "while start_date <= end_date:\n",
    "    driver.get(\"https://www.google.com\") # ورود به صفحه گوگل\n",
    "    search_box = driver.find_element(\"name\",\"q\")  # پیدا کردن المان مربوط به جستجو\n",
    "    #search_box.send_keys(\"همراه اول after:2020-11-01 before:2020-12-01\")  # وارد کردن عبارت مورد نظر\n",
    "    search_box.send_keys(keyword + \" after:\" + str(start_date) + \" before:\" + str(start_date + relativedelta(months=1)))  # وارد کردن عبارت مورد نظر\n",
    "\n",
    "    time.sleep(1)\n",
    "    search_box.send_keys(Keys.RETURN)  # ارسال جستجو با فشردن Enter\n",
    "    html_content = driver.page_source # دریافت HTML صفحه جستجو شده\n",
    "    time.sleep(1)\n",
    "    button = driver.find_element(\"id\",\"hdtb-tls\") #tools پیدا کردن المان مربوط به \n",
    "    button.click()  #tools کلیک روی دکمه\n",
    "    page_html = driver.page_source #دریافت کد اچ تی ام ال\n",
    "    soup = BeautifulSoup(page_html, 'html.parser') # تحویل به پارسر\n",
    "\n",
    "    result_stats_div = soup.find('div', {'id': 'result-stats'})\n",
    "    if result_stats_div:\n",
    "        result_stats_text = result_stats_div.text\n",
    "        #print(result_stats_text)\n",
    "        match = re.search(r'About ([\\d,]+) results', result_stats_text)         # جدا کردن قسمت عددی از متن\n",
    "        numeric_part = match.group(1)\n",
    "        numeric_part = numeric_part.replace(',', '')     # حذف کاماها از عدد\n",
    "        numeric_value = int(numeric_part)     # تبدیل رشته به عدد صحیح\n",
    "        print(str(start_date) + \": \" + str(numeric_value))\n",
    "\n",
    "        df = df.assign(date=[start_date], keyword=[keyword], search_result=[numeric_value])\n",
    "        appended_data = [appended_data, df]\n",
    "        appended_data = pd.concat(appended_data)\n",
    "    else:\n",
    "        print('تگ div با آی دی result-stats یافت نشد.')\n",
    "    #print(page_html)\n",
    "    start_date = start_date + relativedelta(months=+1)\n",
    "appended_data = appended_data.reset_index()\n",
    "print(appended_data)\n",
    "appended_data.to_csv('google-selenium.csv')\n",
    "driver.quit()"
   ]
  }
 ],
 "metadata": {
  "kernelspec": {
   "display_name": "Python 3",
   "language": "python",
   "name": "python3"
  },
  "language_info": {
   "codemirror_mode": {
    "name": "ipython",
    "version": 3
   },
   "file_extension": ".py",
   "mimetype": "text/x-python",
   "name": "python",
   "nbconvert_exporter": "python",
   "pygments_lexer": "ipython3",
   "version": "3.11.1"
  }
 },
 "nbformat": 4,
 "nbformat_minor": 2
}
