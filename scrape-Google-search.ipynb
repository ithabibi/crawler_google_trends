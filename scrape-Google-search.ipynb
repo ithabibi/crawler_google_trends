{
 "cells": [
  {
   "cell_type": "markdown",
   "metadata": {},
   "source": [
    "<a href=\"https://colab.research.google.com/github/ithabibi/crawler_google_trends/blob/main/mscrape-Google-search.ipynb\" target=\"_parent\"><img src=\"https://colab.research.google.com/assets/colab-badge.svg\" alt=\"Open In Colab\"/></a>"
   ]
  },
  {
   "cell_type": "code",
   "execution_count": null,
   "metadata": {},
   "outputs": [],
   "source": [
    "!pip install python-dotenv #for read the .env file\n",
    "!pip install serpapi #for scrap"
   ]
  },
  {
   "cell_type": "code",
   "execution_count": null,
   "metadata": {},
   "outputs": [],
   "source": [
    "!rm -rf /content/.env\n",
    "!wget https://github.com/ithabibi/crawler_google_trends/blob/5a2aa2e6151bc7cbc71d821d0c4c436df55590d7/.env"
   ]
  },
  {
   "cell_type": "code",
   "execution_count": null,
   "metadata": {},
   "outputs": [],
   "source": [
    "import os\n",
    "import serpapi\n",
    "\n",
    "from dotenv import load_dotenv\n",
    "load_dotenv()\n",
    "\n",
    "api_key = os.getenv('SERPAPI_KEY')\n",
    "\n",
    "client = serpapi.Client(api_key=api_key)\n",
    "result = client.search(\n",
    "\tq=\"همراه اول\",\n",
    "\tengine=\"google\",\n",
    "\tlocation=\"Any\",\n",
    "\thl=\"Any\",\n",
    "\tgl=\"Any\",\n",
    ")\n",
    "#print(result) # All information\n",
    "print(result[\"search_information\"][\"total_results\"]) # Get number of results available\n",
    "#print(result[\"related_questions\"]) # Get all the related questions\n",
    "#print (result['organic_results'])"
   ]
  }
 ],
 "metadata": {
  "language_info": {
   "name": "python"
  }
 },
 "nbformat": 4,
 "nbformat_minor": 2
}
