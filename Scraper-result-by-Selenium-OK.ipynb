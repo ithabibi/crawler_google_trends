{
 "cells": [
  {
   "cell_type": "code",
   "execution_count": 18,
   "metadata": {},
   "outputs": [
    {
     "name": "stdout",
     "output_type": "stream",
     "text": [
      "Requirement already satisfied: selenium in c:\\users\\administrator\\appdata\\local\\programs\\python\\python311\\lib\\site-packages (4.11.2)"
     ]
    },
    {
     "name": "stderr",
     "output_type": "stream",
     "text": [
      "ERROR: Could not find a version that satisfies the requirement 4.22.0 (from versions: none)\n",
      "ERROR: No matching distribution found for 4.22.0\n"
     ]
    },
    {
     "name": "stdout",
     "output_type": "stream",
     "text": [
      "\n"
     ]
    }
   ],
   "source": [
    "#!pip uninstall selenium\n",
    "!pip install selenium 4.22.0"
   ]
  },
  {
   "cell_type": "code",
   "execution_count": 4,
   "metadata": {},
   "outputs": [],
   "source": [
    "import requests\n",
    "from bs4 import BeautifulSoup\n",
    "import IPython\n",
    "import IPython.display\n",
    "\n",
    "import time\n",
    "from selenium import webdriver\n",
    "import re\n",
    "\n",
    "from selenium.webdriver.common.by import By\n",
    "from selenium.webdriver.common.keys import Keys\n",
    "\n",
    "import pandas as pd\n",
    "import datetime\n",
    "from dateutil.relativedelta import relativedelta\n",
    "import os.path"
   ]
  },
  {
   "cell_type": "markdown",
   "metadata": {},
   "source": [
    "## load page unit test"
   ]
  },
  {
   "cell_type": "code",
   "execution_count": null,
   "metadata": {},
   "outputs": [],
   "source": [
    "query = \"همراه اول\"\n",
    "url = f\"https://www.google.com/search?q={query}\"\n",
    "\n",
    "headers = {\n",
    "    \"User-Agent\": \"Mozilla/5.0 (Windows NT 10.0; Win64; x64) AppleWebKit/537.36 (KHTML, like Gecko) Chrome/58.0.3029.110 Safari/537.3\"\n",
    "}\n",
    "print(url)\n",
    "response = requests.get(url, headers=headers)\n",
    "IPython.display.HTML(response.text)"
   ]
  },
  {
   "cell_type": "code",
   "execution_count": null,
   "metadata": {},
   "outputs": [],
   "source": [
    "driver = webdriver.Chrome()\n",
    "#keyword = \"همراه اول\"\n",
    "keyword = \"ایرانسل\"\n",
    "\n",
    "start_date = datetime.date(2010, 1, 1)#@param {type:\"string\"}\n",
    "end_date = datetime.date(2024, 10, 1)#@param {type:\"string\"}\n",
    "\n",
    "import pandas as pd\n",
    "df = pd.DataFrame()\n",
    "appended_data = pd.DataFrame()\n",
    "\n",
    "###########  while  ######################################################################################\n",
    "while start_date <= end_date:\n",
    "    driver.get(\"https://www.google.com\") # ورود به صفحه گوگل\n",
    "    search_box = driver.find_element(\"name\",\"q\")  # پیدا کردن المان مربوط به جستجو\n",
    "    #search_box.send_keys(\"همراه اول after:2020-11-01 before:2020-12-01\")  # وارد کردن عبارت مورد نظر\n",
    "    search_box.send_keys('\\\"' + keyword + '\\\"' +\" after:\" + str(start_date) + \" before:\" + str(start_date + relativedelta(months=1)))  # وارد کردن عبارت مورد نظر\n",
    "\n",
    "    time.sleep(21)#19\n",
    "    search_box.send_keys(Keys.RETURN)  # ارسال جستجو با فشردن Enter\n",
    "    html_content = driver.page_source # دریافت HTML صفحه جستجو شده\n",
    "    time.sleep(33)#31\n",
    "    button = driver.find_element(\"id\",\"hdtb-tls\") #tools پیدا کردن المان مربوط به \n",
    "    button.click()  #tools کلیک روی دکمه\n",
    "    page_html = driver.page_source #دریافت کد اچ تی ام ال\n",
    "    soup = BeautifulSoup(page_html, 'html.parser') # تحویل به پارسر\n",
    "\n",
    "    result_stats_div = soup.find('div', {'id': 'result-stats'})\n",
    "    if result_stats_div:\n",
    "        result_stats_text = result_stats_div.text\n",
    "        #print(result_stats_text)\n",
    "        match = re.search(r'About ([\\d,]+) results', result_stats_text)         # جدا کردن قسمت عددی از متن\n",
    "        numeric_part = match.group(1)\n",
    "        numeric_part = numeric_part.replace(',', '')     # حذف کاماها از عدد\n",
    "        numeric_value = int(numeric_part)     # تبدیل رشته به عدد صحیح\n",
    "        print(str(start_date) + \": \" + str(numeric_value))\n",
    "\n",
    "        df = df.assign(date=[start_date], keyword=[keyword], search_result=[numeric_value])\n",
    "        appended_data = [appended_data, df]\n",
    "        appended_data = pd.concat(appended_data)\n",
    "        appended_data.to_csv('google-selenium.csv')\n",
    "    else:\n",
    "        print('تگ div با آی دی result-stats یافت نشد.')\n",
    "    #print(page_html)\n",
    "    start_date = start_date + relativedelta(months=+1)\n",
    "appended_data = appended_data.reset_index()\n",
    "print(appended_data)\n",
    "appended_data.to_csv('google-Result.csv')\n",
    "driver.quit()"
   ]
  }
 ],
 "metadata": {
  "kernelspec": {
   "display_name": "Python 3",
   "language": "python",
   "name": "python3"
  },
  "language_info": {
   "codemirror_mode": {
    "name": "ipython",
    "version": 3
   },
   "file_extension": ".py",
   "mimetype": "text/x-python",
   "name": "python",
   "nbconvert_exporter": "python",
   "pygments_lexer": "ipython3",
   "version": "3.11.1"
  }
 },
 "nbformat": 4,
 "nbformat_minor": 2
}
