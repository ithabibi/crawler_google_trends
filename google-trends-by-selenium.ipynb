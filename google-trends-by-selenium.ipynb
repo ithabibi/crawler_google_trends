{
 "cells": [
  {
   "cell_type": "code",
   "execution_count": 14,
   "metadata": {},
   "outputs": [
    {
     "name": "stdout",
     "output_type": "stream",
     "text": [
      "Requirement already satisfied: selenium in c:\\users\\administrator\\appdata\\local\\programs\\python\\python311\\lib\\site-packages (4.11.2)\n",
      "Requirement already satisfied: urllib3<3,>=1.26 in c:\\users\\administrator\\appdata\\local\\programs\\python\\python311\\lib\\site-packages (from urllib3[socks]<3,>=1.26->selenium) (1.26.14)\n",
      "Requirement already satisfied: trio~=0.17 in c:\\users\\administrator\\appdata\\local\\programs\\python\\python311\\lib\\site-packages (from selenium) (0.22.2)\n",
      "Requirement already satisfied: trio-websocket~=0.9 in c:\\users\\administrator\\appdata\\local\\programs\\python\\python311\\lib\\site-packages (from selenium) (0.10.3)\n",
      "Requirement already satisfied: certifi>=2021.10.8 in c:\\users\\administrator\\appdata\\local\\programs\\python\\python311\\lib\\site-packages (from selenium) (2022.12.7)\n",
      "Requirement already satisfied: attrs>=20.1.0 in c:\\users\\administrator\\appdata\\local\\programs\\python\\python311\\lib\\site-packages (from trio~=0.17->selenium) (22.2.0)\n",
      "Requirement already satisfied: sortedcontainers in c:\\users\\administrator\\appdata\\local\\programs\\python\\python311\\lib\\site-packages (from trio~=0.17->selenium) (2.4.0)\n",
      "Requirement already satisfied: idna in c:\\users\\administrator\\appdata\\local\\programs\\python\\python311\\lib\\site-packages (from trio~=0.17->selenium) (3.4)\n",
      "Requirement already satisfied: outcome in c:\\users\\administrator\\appdata\\local\\programs\\python\\python311\\lib\\site-packages (from trio~=0.17->selenium) (1.2.0)\n",
      "Requirement already satisfied: sniffio in c:\\users\\administrator\\appdata\\local\\programs\\python\\python311\\lib\\site-packages (from trio~=0.17->selenium) (1.3.0)\n",
      "Requirement already satisfied: cffi>=1.14 in c:\\users\\administrator\\appdata\\local\\programs\\python\\python311\\lib\\site-packages (from trio~=0.17->selenium) (1.15.1)\n",
      "Requirement already satisfied: exceptiongroup in c:\\users\\administrator\\appdata\\local\\programs\\python\\python311\\lib\\site-packages (from trio-websocket~=0.9->selenium) (1.1.3)\n",
      "Requirement already satisfied: wsproto>=0.14 in c:\\users\\administrator\\appdata\\local\\programs\\python\\python311\\lib\\site-packages (from trio-websocket~=0.9->selenium) (1.2.0)\n",
      "Requirement already satisfied: PySocks!=1.5.7,<2.0,>=1.5.6 in c:\\users\\administrator\\appdata\\local\\programs\\python\\python311\\lib\\site-packages (from urllib3[socks]<3,>=1.26->selenium) (1.7.1)\n",
      "Requirement already satisfied: pycparser in c:\\users\\administrator\\appdata\\local\\programs\\python\\python311\\lib\\site-packages (from cffi>=1.14->trio~=0.17->selenium) (2.21)\n",
      "Requirement already satisfied: h11<1,>=0.9.0 in c:\\users\\administrator\\appdata\\local\\programs\\python\\python311\\lib\\site-packages (from wsproto>=0.14->trio-websocket~=0.9->selenium) (0.14.0)\n",
      "Note: you may need to restart the kernel to use updated packages.\n"
     ]
    }
   ],
   "source": [
    "pip install selenium "
   ]
  },
  {
   "cell_type": "code",
   "execution_count": 31,
   "metadata": {},
   "outputs": [],
   "source": [
    "import requests\n",
    "from bs4 import BeautifulSoup\n",
    "import IPython\n",
    "import IPython.display\n",
    "\n",
    "import time\n",
    "from selenium import webdriver\n",
    "import re\n",
    "\n",
    "from selenium.webdriver.common.by import By\n",
    "from selenium.webdriver.common.keys import Keys\n",
    "\n",
    "import pandas as pd\n",
    "import datetime\n",
    "from dateutil.relativedelta import relativedelta\n",
    "import os.path"
   ]
  },
  {
   "cell_type": "markdown",
   "metadata": {},
   "source": [
    "## load page test case"
   ]
  },
  {
   "cell_type": "code",
   "execution_count": null,
   "metadata": {},
   "outputs": [],
   "source": [
    "query = \"همراه اول\"\n",
    "url = f\"https://trends.google.com/trends/?geo=FI&hl=en-US\"\n",
    "\n",
    "headers = {\n",
    "    \"User-Agent\": \"Mozilla/5.0 (Windows NT 10.0; Win64; x64) AppleWebKit/537.36 (KHTML, like Gecko) Chrome/58.0.3029.110 Safari/537.3\"\n",
    "}\n",
    "print(url)\n",
    "response = requests.get(url, headers=headers)\n",
    "IPython.display.HTML(response.text)"
   ]
  },
  {
   "cell_type": "markdown",
   "metadata": {},
   "source": [
    "## download\n"
   ]
  },
  {
   "cell_type": "code",
   "execution_count": 46,
   "metadata": {},
   "outputs": [],
   "source": [
    "driver = webdriver.Chrome()\n",
    "\n",
    "driver.maximize_window()  # تنظیم اندازه پنجره\n",
    "\n",
    "#keyword = \"همراه اول\"\n",
    "keyword = \"ایرانسل\"\n",
    "\n",
    "start_date = datetime.date(2010, 1, 1)#@param {type:\"string\"}\n",
    "end_date = datetime.date(2024, 10, 1)#@param {type:\"string\"}\n",
    "\n",
    "import pandas as pd\n",
    "df = pd.DataFrame()\n",
    "appended_data = pd.DataFrame()\n",
    "\n",
    "\n",
    "###########  while  ######################################################################################\n",
    "driver.get(\"https://trends.google.com/trends/?geo=FI&hl=en-US\") # ورود به صفحه گوگل\n",
    "driver.set_page_load_timeout(10)\n",
    "time.sleep(1)\n",
    "#driver.get(\"https://trends.google.com/trends/explore?date=today%201-m&geo=IR&q=paython,java&hl=en-US\") # ورود به صفحه گوگل\n",
    "#driver.get(\"https://trends.google.com/trends/explore?date=today%201-m&geo=IR&q=همراه%20اول,ایرانسل&hl=en-US\") # ورود به صفحه گوگل\n",
    "# driver.get(\"https://trends.google.com/trends/explore?date=2024-09-11%202024-10-11&q=همراه%20اول,ایرانسل&hl=en-US\") # ورود به صفحه گوگل\n",
    "# time.sleep(1)\n",
    "driver.get(\"https://trends.google.com/trends/explore?date=2024-09-11%202024-10-11&geo=IR&q=همراه%20اول,ایرانسل&hl=en-US\") # ورود به صفحه گوگل\n",
    "time.sleep(1)\n",
    "download_button = driver.find_element(By.XPATH, \"/html/body/div[1]/div/span[2]/a[2]\")\n",
    "download_button.click()\n",
    "time.sleep(10)\n",
    "driver.refresh()\n"
   ]
  },
  {
   "cell_type": "code",
   "execution_count": 58,
   "metadata": {},
   "outputs": [
    {
     "name": "stdout",
     "output_type": "stream",
     "text": [
      "Error: Message: no such element: Unable to locate element: {\"method\":\"xpath\",\"selector\":\"/html/body/div[2]/div[2]/div/md-content/div/div/div[5]/trends-widget/ng-include/widget/div/div/div/widget-actions/div/button[1]\"}\n",
      "  (Session info: chrome=130.0.6723.71); For documentation on this error, please visit: https://www.selenium.dev/documentation/webdriver/troubleshooting/errors#no-such-element-exception\n",
      "Stacktrace:\n",
      "\tGetHandleVerifier [0x00007FF7CB323AF5+28005]\n",
      "\t(No symbol) [0x00007FF7CB2883F0]\n",
      "\t(No symbol) [0x00007FF7CB12580A]\n",
      "\t(No symbol) [0x00007FF7CB175A3E]\n",
      "\t(No symbol) [0x00007FF7CB175D2C]\n",
      "\t(No symbol) [0x00007FF7CB1BEA97]\n",
      "\t(No symbol) [0x00007FF7CB19BA7F]\n",
      "\t(No symbol) [0x00007FF7CB1BB8B3]\n",
      "\t(No symbol) [0x00007FF7CB19B7E3]\n",
      "\t(No symbol) [0x00007FF7CB1675C8]\n",
      "\t(No symbol) [0x00007FF7CB168731]\n",
      "\tGetHandleVerifier [0x00007FF7CB61646D+3118813]\n",
      "\tGetHandleVerifier [0x00007FF7CB666CC0+3448624]\n",
      "\tGetHandleVerifier [0x00007FF7CB65CF3D+3408301]\n",
      "\tGetHandleVerifier [0x00007FF7CB3EA44B+841403]\n",
      "\t(No symbol) [0x00007FF7CB29344F]\n",
      "\t(No symbol) [0x00007FF7CB28F4C4]\n",
      "\t(No symbol) [0x00007FF7CB28F65D]\n",
      "\t(No symbol) [0x00007FF7CB27EBB9]\n",
      "\tBaseThreadInitThunk [0x00007FFE55047374+20]\n",
      "\tRtlUserThreadStart [0x00007FFE557BCC91+33]\n",
      "\n"
     ]
    }
   ],
   "source": [
    "driver.get(\"https://trends.google.com/trends/explore?date=2024-09-11%202024-10-11&geo=IR&q=همراه%20اول,ایرانسل&hl=en-US\") # ورود به صفحه گوگل\n",
    "try:\n",
    "    download_button = driver.find_element(By.XPATH, \"/html/body/div[2]/div[2]/div/md-content/div/div/div[5]/trends-widget/ng-include/widget/div/div/div/widget-actions/div/button[1]\")\n",
    "    download_button.click()\n",
    "except Exception as e:\n",
    "    print(f\"Error: {e}\")\n",
    "\n",
    "# time.sleep(5)\n",
    "# driver.get(\"https://trends.google.com/trends/explore?date=2024-07-11%202024-08-11&geo=IR&q=همراه%20اول,ایرانسل&hl=en-US\") # ورود به صفحه گوگل\n",
    "\n",
    "# try:\n",
    "#     download_button = driver.find_element(By.XPATH, \"/html/body/div[2]/div[2]/div/md-content/div/div/div[5]/trends-widget/ng-include/widget/div/div/div/widget-actions/div/button[1]\")\n",
    "#     download_button.click()\n",
    "# except Exception as e:\n",
    "#     print(f\"Error: {e}\")\n",
    "\n",
    "# try:\n",
    "#    download_button = driver.find_elements(By.XPATH, \"/html/body/div[3]/div[2]/div/md-content/div/div/div[5]/trends-widget/ng-include/widget/div/div/div/widget-actions/div/button[1]\")\n",
    "#    download_button[3].click()\n",
    "# except Exception as e:\n",
    "#    print(f\"Error: {e}\")\n",
    "\n",
    "#try:\n",
    "#    download_button = driver.find_element(By.CSS_SELECTOR, 'button.widget-actions-item.export')\n",
    "#    download_button.click()\n",
    "#except Exception as e:\n",
    "#    print(f\"Error: {e}\")\n",
    "\n",
    "# صبر کردن برای دانلود فایل (بسته به حجم فایل ممکن است زمان متفاوتی نیاز باشد)\n",
    "time.sleep(10)  # زمان مناسب برای دانلود فایل\n",
    "\n",
    "# بستن WebDriver\n",
    "#driver.quit()"
   ]
  }
 ],
 "metadata": {
  "kernelspec": {
   "display_name": "Python 3",
   "language": "python",
   "name": "python3"
  },
  "language_info": {
   "codemirror_mode": {
    "name": "ipython",
    "version": 3
   },
   "file_extension": ".py",
   "mimetype": "text/x-python",
   "name": "python",
   "nbconvert_exporter": "python",
   "pygments_lexer": "ipython3",
   "version": "3.11.1"
  }
 },
 "nbformat": 4,
 "nbformat_minor": 2
}
