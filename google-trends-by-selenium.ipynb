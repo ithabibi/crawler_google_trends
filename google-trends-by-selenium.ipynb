{
 "cells": [
  {
   "cell_type": "code",
   "execution_count": 33,
   "metadata": {},
   "outputs": [
    {
     "name": "stdout",
     "output_type": "stream",
     "text": [
      "Requirement already satisfied: selenium in c:\\users\\administrator\\appdata\\local\\programs\\python\\python311\\lib\\site-packages (4.11.2)\n",
      "Note: you may need to restart the kernel to use updated packages.\n"
     ]
    },
    {
     "name": "stderr",
     "output_type": "stream",
     "text": [
      "ERROR: Could not find a version that satisfies the requirement 4.22.0 (from versions: none)\n",
      "ERROR: No matching distribution found for 4.22.0\n",
      "\n",
      "[notice] A new release of pip is available: 23.2.1 -> 24.2\n",
      "[notice] To update, run: python.exe -m pip install --upgrade pip\n"
     ]
    }
   ],
   "source": [
    "pip install selenium 4.22.0"
   ]
  },
  {
   "cell_type": "code",
   "execution_count": 34,
   "metadata": {},
   "outputs": [],
   "source": [
    "import requests\n",
    "from bs4 import BeautifulSoup\n",
    "import IPython\n",
    "import IPython.display\n",
    "\n",
    "import time\n",
    "from selenium import webdriver\n",
    "import re\n",
    "\n",
    "from selenium.webdriver.common.by import By\n",
    "from selenium.webdriver.common.keys import Keys\n",
    "\n",
    "import pandas as pd\n",
    "import datetime\n",
    "from dateutil.relativedelta import relativedelta\n",
    "import os.path"
   ]
  },
  {
   "cell_type": "markdown",
   "metadata": {},
   "source": [
    "## load page test case"
   ]
  },
  {
   "cell_type": "code",
   "execution_count": null,
   "metadata": {},
   "outputs": [],
   "source": [
    "query = \"همراه اول\"\n",
    "url = f\"https://trends.google.com/trends/?geo=FI&hl=en-US\"\n",
    "\n",
    "headers = {\n",
    "    \"User-Agent\": \"Mozilla/5.0 (Windows NT 10.0; Win64; x64) AppleWebKit/537.36 (KHTML, like Gecko) Chrome/58.0.3029.110 Safari/537.3\"\n",
    "}\n",
    "print(url)\n",
    "response = requests.get(url, headers=headers)\n",
    "IPython.display.HTML(response.text)"
   ]
  },
  {
   "cell_type": "markdown",
   "metadata": {},
   "source": [
    "## download\n"
   ]
  },
  {
   "cell_type": "code",
   "execution_count": 36,
   "metadata": {},
   "outputs": [],
   "source": [
    "driver = webdriver.Chrome()\n",
    "#keyword = \"همراه اول\"\n",
    "keyword = \"ایرانسل\"\n",
    "\n",
    "start_date = datetime.date(2010, 1, 1)#@param {type:\"string\"}\n",
    "end_date = datetime.date(2024, 10, 1)#@param {type:\"string\"}\n",
    "\n",
    "import pandas as pd\n",
    "df = pd.DataFrame()\n",
    "appended_data = pd.DataFrame()\n",
    "\n",
    "\n",
    "###########  while  ######################################################################################\n",
    "driver.get(\"https://trends.google.com/trends/?geo=FI&hl=en-US\") # ورود به صفحه گوگل\n",
    "time.sleep(5)\n",
    "#driver.get(\"https://trends.google.com/trends/explore?date=today%201-m&geo=IR&q=paython,java&hl=en-US\") # ورود به صفحه گوگل\n",
    "#driver.get(\"https://trends.google.com/trends/explore?date=today%201-m&geo=IR&q=همراه%20اول,ایرانسل&hl=en-US\") # ورود به صفحه گوگل\n",
    "driver.get(\"https://trends.google.com/trends/explore?date=2024-09-11%202024-10-11&geo=IR&q=همراه%20اول,ایرانسل&hl=en-US\") # ورود به صفحه گوگل\n",
    "time.sleep(1)\n"
   ]
  },
  {
   "cell_type": "code",
   "execution_count": 44,
   "metadata": {},
   "outputs": [],
   "source": [
    "try:\n",
    "    download_button = driver.find_element(By.XPATH, \"/html/body/div[2]/div[2]/div/md-content/div/div/div[5]/trends-widget/ng-include/widget/div/div/div/widget-actions/div/button[1]\")\n",
    "    download_button.click()\n",
    "except Exception as e:\n",
    "    print(f\"Error: {e}\")\n",
    "\n",
    "#try:\n",
    "#    download_button = driver.find_element(By.CSS_SELECTOR, 'button.widget-actions-item.export')\n",
    "#    download_button.click()\n",
    "#except Exception as e:\n",
    "#    print(f\"Error: {e}\")\n",
    "\n",
    "# صبر کردن برای دانلود فایل (بسته به حجم فایل ممکن است زمان متفاوتی نیاز باشد)\n",
    "time.sleep(10)  # زمان مناسب برای دانلود فایل\n",
    "\n",
    "# بستن WebDriver\n",
    "#driver.quit()"
   ]
  }
 ],
 "metadata": {
  "kernelspec": {
   "display_name": "Python 3",
   "language": "python",
   "name": "python3"
  },
  "language_info": {
   "codemirror_mode": {
    "name": "ipython",
    "version": 3
   },
   "file_extension": ".py",
   "mimetype": "text/x-python",
   "name": "python",
   "nbconvert_exporter": "python",
   "pygments_lexer": "ipython3",
   "version": "3.11.1"
  }
 },
 "nbformat": 4,
 "nbformat_minor": 2
}
